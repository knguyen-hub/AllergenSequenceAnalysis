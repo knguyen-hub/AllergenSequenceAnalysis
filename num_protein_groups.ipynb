{
 "cells": [
  {
   "cell_type": "code",
   "execution_count": 1,
   "metadata": {},
   "outputs": [],
   "source": [
    "import xlrd"
   ]
  },
  {
   "cell_type": "code",
   "execution_count": 12,
   "metadata": {},
   "outputs": [],
   "source": [
    "file_name = \"COMPARE-2025-01-27-25.xlsx\"\n",
    "\n",
    "book = xlrd.open_workbook(file_name)\n",
    "sh = book.sheet_by_index(0)"
   ]
  },
  {
   "cell_type": "code",
   "execution_count": 13,
   "metadata": {},
   "outputs": [
    {
     "name": "stdout",
     "output_type": "stream",
     "text": [
      "Cel D31 is Jug r 5\n"
     ]
    }
   ],
   "source": [
    "print(\"Cel D31 is {0}\".format(sh.cell_value(rowx=30, colx=3)))"
   ]
  },
  {
   "cell_type": "code",
   "execution_count": 14,
   "metadata": {},
   "outputs": [
    {
     "name": "stdout",
     "output_type": "stream",
     "text": [
      "['metalloprotease', 'lectin', 'peritrophin', '7S globulin', ' vicilin-like', 'profilin', 'lipid transfer protein ', 'triosephosphate isomerase', 'calcium-binding protein', ' sarcoplasmic calcium-binding protein', 'pathogenesis related protein', ' PR-10', ' Bet v 1-like', 'serine protease', 'unknown function', ' translation from AK068307.1', ' translation from AK119653.1', ' translation from AK242260.1', 'defensin', 'Ole e 1-like', 'glyceraldehyde-3-phosphate-dehydrogenase', 'enolase', 'uteroglobin', '11S globulin', ' cupin', 'lipocalin', 'polygalacturonase', 'cupincin', 'enamine/imine deaminase', 'NPC2-like', ' partial', 'gibberellin-regulated protein', 'fibrinogenolytic protease', 'alpha-actinin', 'serum albumin', 'glycoprotein', 'thiol peroxiredoxin', 'lipid transfer protein', 'alpha-glucosidase', 'chitinase', 'alpha-amylase/trypsin inhibitor', 'plasminogen activator', 'apolipophorin', 'casein kinase', 'cysteine protease', 'vitellogenin', 'beta-lactoglobulin', 'arginine esterase', 'melittin', 'actinidin', '2S albumin', ' conglutin', ' vicilin', ' beta-conglycinin', ' glycinin', 'trypsin-inhibitor', 'rubber elongation factor', 'alpha-amylase inhibitor', 'patatin', 'gliadin', 'HMW glutenin', 'LMW glutenin', 'alpha-amlyase inhibitor', 'glutenin', 'ovalbumin', 'lysozyme', 'pectate lyase', 'enterotoxin', 'hemoglobin', 'aspartic protease inhibitor', 'ovomucoid', 'beta-expansin', 'expansin', ' urinary globulin', 'alkaline serine protease', 'thiol protease', ' papain', ' parvalbumin', 'thaumatin-like', 'toxic shock syndrome toxin', ' antigen 5', 'alphaS1-casein', 'beta-casein', 'kappa-casein', 'alpha-lactalbumin', 'taka-amylase', ' alpha-amylase', 'gamma-gliadin', 'agglutinin ', 'phospholipase A1', 'pilosulin', 'superoxide dismutase', 'chymotrypsin', ' serine protease', 'plastocyanin', ' polcalcin', 'trypsin', 'hyaluronidase', 'unknown function ', 'apyrase', 'tropomyosin', 'alcohol dehydrogenase', 'serum albumin ', 'heat shock protein 70', 'ovotransferrin', 'glutathione S-transferase', ' cucumisin', 'chitin-binding protein', 'aspartate protease', 'serine protease inhibitor', 'N-acetylglucosaminidase', ' N-acetylhexosaminidase', 'bactericidal permeability-increasing like', 'expansin-like ', 'ribosomal protein P2', 'inactive aspartic protease', 'beta-1', '3-glucanase', 'acidic ribosomal protein P1', 'chitinase ', 'fatty acid-binding protein', 'hemocyanin', ' arylphorin', 'cysteine protease inhibitor', 'gamma secalin', 'gamma-hordein-3', 'serpin', 'vacuolar serine protease', 'beta-xylosidase', 'nitrile-specifier protein', 'ribonuclease', 'lipocalin ', 'tropomyosin ', 'peroxisomal protein', 'hevein', 'ribonuclease mitogillin', 'isoflavon reductase-like protein', ' phenylcoumaran benzylic ether reductase', 'small rubber particle protein', 'alpha-purothionin', 'cyclophilin/peptidyl-prolyl isomerase', ' group 5/21 mite allergen', 'microvilli-like protein with unknown function', 'leucine zipper protein ', 'mitochondrial malate dehydrogenase', 'alpha-amylase', 'oleosin', 'acidic ribosomal protein P2 ', 'secreted alkaline protease', 'troponin C', 'acidic ribosomal protein P2', 'phospholipase A2', 'paramyosin', 'thioredoxin', 'phenylcoumaran benzylic ether reductase', 'lipophilin', 'heat shock protein 70 ', 'polcalcin', 'cytochrome c', 'ferritin', 'procalin', 'arginine kinase', 'glyoxalase', 'cystatin A', 'beta-fructorfuranosidase', 'L3 ribosomal protein', 'glutamic acid rich protein', ' Hev b 5-like', 'gelsolin-like', 'nuclear transport factor 2', 'nuclear transport factor 2-like', 'hydrophobin', 'pectin methylesterase', 'invertase inhibitor', 'collagen', 'alphaS2-casein', 'profilin ', ' vicilin ', '13S globulin ', 'thiol reductase', 'lactotransferrin', 'esterase', 'FAD-containing oxidase', 'mannitol dehydrogenase', 'NADP-dependent mannitol dehydrogenase ', 'elongation factor', 'phytocystatin', 'FAD-linked oxidoreductase', 'berberine bridge enzyme', ' PR-1', 'lecithinase-like', ' partial ', 'Alt a 1-like', 'germin-like', 'myosin light chain', 'villin', 'major royal jelly protein', 'serine protease ', 'aspartic protease', 'serine carboxypeptidase', 'omega-5 gliadin', 'chitosanase', 'dipeptidyl peptidase', 'acid phosphatase', 'protease ', ' beta-conglutin', 'bromelain', ' sulfhydryl protease', 'peroxiredoxin', 'hydrolase', 'aldehyde dehydrogenase', 'profilin-like', 'glucose-methanol-choline oxidoreductase', 'catalase', 'lactoylglutathione lyase', '  partial', 'disulfide isomerase ', 'unknown function  ', 'icarapin', '8S globulin', 'translationally controlled tumor protein', 'pepsin', 'amylase-like ', 'SXP/RAL-2 family protein', 'latherin ', 'PhiA cell wall protein', 'vacuolar serine protease ', 'dipeptidyl peptidase ', 'serine/threonine protein kinase', 'eukaryotic translation initiation factor', 'aldolase', 'cobalamin independent methionine synthase', 'abhydrolase', 'exodesoxyribonuclease', 'glucoamylase', 'latherin', 'protease', 'hevamine', 'ribosomal phosphoprotein P1', 'kiwellin', 'ubiquinol-cytochrome c reductase binding protein', 'metallothionein', 'general odorant-binding protein', ' partial from XP_008286259.1', 'aspartyl endopeptidase', 'mitochondrial ubiquitin ligase activator of NFKB 1', 'endosperm transfer cell specific PR60', 'cofilin', 'galactose oxidase', 'glycosyl hydrolase 5 family ', ' partial from KAF8044512.1', 'antimicrobial peptide', ' partial from P0DKH7.1', 'beta-glucosidase', 'polygalacturonase ', 'alpha-tubulin', 'inorganic pyrophosphatase', 'platelet-derived growth factor/vascular endothelial growth factor', ' PVF1-like ', ' partial from 5ZGM_A', ' 5ZGM_B', ' PR-1 ', ' partial from G1UH28.1', 'beta-amylase', ' partial from Q948Z4.1', 'phosphoglycerate mutase', ' partial from ABD16200.1', 'pectate lyase ', 'alpha-tubulin ', 'ovary development-related protein', 'arabinase', ' partial from EAL84189.1', 'cerato-platanin', ' partial from O60022.1', 'arginine kinase ', 'fibronectin-binding protein ', 'dehydrin ', 'glutathione S-transferase ', 'seed biotinylated protein ', ' partial from Q1HR69', ' gamma-conglutin', ' partial from Q42369.1', ' partial from Q9FSH9.1', 'putative TAG factor protein', 'dioscorin', ' partial from Q16XK7', 'porin', ' partial from Q1HR57', 'lysosomal aspartic protease', ' partial from Q03168.2', 'alcohol dehydrogenase ', 'beta-enolase', ' partial from P07322.3', 'D7 like salivary odorant-binding protein', ' partial from P18153.2', ' partial from AAV90693.1', ' partial from Q7YT43', 'salivary odorant-binding protein', ' partial from Q95V92', ' partial from Q95V93', ' partial from XP_007199020.1', 'filamin C', 'cysteine-rich anti-microbial protein', 'secreted inorganic pyrophosphatase', ' partial from AHF71021.1', ' partial from AHF71022.1', ' partial from AHF71023.1', ' partial from AHF71024.1', ' partial from AHF71026.1', ' partial from AHF71025.1', ' partial from AAT01617.1', ' partial from BAM22586.1', 'glutelin', ' partial from P16347.1', 'malate dehydrogenase', 'carbonic anhydrase', 'alpha 1', ' 4 glucan synthase', 'glycerol kinase', 'S-adenosylmethionine synthase 1-like', 'beta-galactosidase', ' partial from XP_003987882.1', ' partial from GFG40850.1', 'peroxidase-1', ' partial from ADJ67792.1', 'beta-glucosidase 4', ' partial from AEV76986.1', 'luminal-binding protein 5', 'ATP synthase beta subunit', 'actin', 'ADP', ' ATP carrier protein 1', 'UDP-arabinopyranose mutase', ' cypmaclein', ' partial from Q9AXI1.1', ' Q9AXI0.1', ' Q6J1J8.1', ' partial from Q39649.1', ' partial from P85063.3', ' partial from Q9AXI0.1', ' partial from C0HLL3.1', ' partial from P0DMB9.2', ' partial from QPB41107.1', 'mandelonitrile lyase 2', ' partial from Q945K2.1', ' partial from PQQ11123.1', ' partial from P13744.1', '11s globulin', 'hexamerin', ' partial from ACU78069.1', ' partial from QZM06934.1', 'glycerol dehydrogenase', 'oxidoreductase', 'cyanide hydratase', ' partial from QXO82627.1', ' partial from QXO82628.1', 'endothelial growth factor', ' partial from RXH72835.1', ' partial from CAA77666.1', ' partial from XP_042978511.1', ' XP_042985737.1', ' partial from XP_042985737.1', ' partial from KAG6732567.1', ' KAG7996745.1', ' partial from XP_042984133.1', 'fructokinase', ' partial from XP_042966566.1', 'acyltransferase', ' transacylase', ' partial from XP_042956292.1', ' partial from XP_042949260.1', 'carbonic anhydrase-like', ' partial from XP_042969845.1', ' partial from XP_042972635.1', 'nucleoside diphosphate kinase', ' partial from XP_042954926.1', ' XP_042958473.1', 'creatine kinase', ' partial from XP_022025296.1', ' partial from D7TCB5', ' partial from XP_007137307.1', ' conlinin', ' partial from CAC94011.1', ' partial from UTE00285.1', ' partial from UTE00286.1', ' partial from XP_044383364.1', ' partial from A0A438H737', 'glycogen phosphorylase', 'NADPH dehydrogenase', ' partial from A5AS18', ' partial from A5BLM8', 'ribosomal protein S15a', ' partial from KAF9498209.1', 'ribosomal protein S8', ' partial from GAW05875.1', ' partial from D7TLU7', ' partial from AAD54244.1', ' partial from Q9SPL4.1', 'calcium binding protein', ' calmodulin', 'glucan endo-1', '3-beta-glucosidase', 'fructose-bisphosphate aldolase', ' partial from UTA91547.1', ' partial from UVH30529.1', '27kD gamma zein', ' partial from AAL16977.1', 'sarcoplasmic calcium binding protein', 'pectin esterase', ' partial from AAB52963.1', 'mandelonitrile lyase', ' partial from A0A251QUN8', ' partial from A0A251QUN1', 'fructose-bisphosphate aldose', ' partial from RZC84487.1', ' partial from RZC84488.1', ' partial from RZC43524.1', ' partial from RZC68862.1', ' partial from RZC52308.1', ' partial from AET74077.1', ' partial from UTQ11697.1', ' partial from QYS16039.1']\n"
     ]
    }
   ],
   "source": [
    "# list of all possible descriptions in the excel file\n",
    "descriptions = []\n",
    "\n",
    "\n",
    "for rx in range(1, sh.nrows, 1):\n",
    "    description = sh.row(rx)[4].value\n",
    "    if description != '':\n",
    "        description = description.split(',')\n",
    "        for val in description:\n",
    "            if val not in descriptions:\n",
    "                descriptions.append(val)\n",
    "print(descriptions)"
   ]
  },
  {
   "cell_type": "code",
   "execution_count": 15,
   "metadata": {},
   "outputs": [
    {
     "name": "stdout",
     "output_type": "stream",
     "text": [
      "The number of unique descriptions in the database is 422\n",
      "The number of entries total in the database is 2837\n"
     ]
    }
   ],
   "source": [
    "print(f\"The number of unique descriptions in the database is {len(descriptions)}\")\n",
    "print(f\"The number of entries total in the database is {sh.nrows}\")"
   ]
  },
  {
   "cell_type": "code",
   "execution_count": 10,
   "metadata": {},
   "outputs": [
    {
     "name": "stdout",
     "output_type": "stream",
     "text": [
      "Help on class Book in module xlrd.book:\n",
      "\n",
      "class Book(xlrd.biffh.BaseObject)\n",
      " |  Contents of a \"workbook\".\n",
      " |  \n",
      " |  .. warning::\n",
      " |  \n",
      " |    You should not instantiate this class yourself. You use the :class:`Book`\n",
      " |    object that was returned when you called :func:`~xlrd.open_workbook`.\n",
      " |  \n",
      " |  Method resolution order:\n",
      " |      Book\n",
      " |      xlrd.biffh.BaseObject\n",
      " |      builtins.object\n",
      " |  \n",
      " |  Methods defined here:\n",
      " |  \n",
      " |  __enter__(self)\n",
      " |  \n",
      " |  __exit__(self, exc_type, exc_value, exc_tb)\n",
      " |  \n",
      " |  __init__(self)\n",
      " |      Initialize self.  See help(type(self)) for accurate signature.\n",
      " |  \n",
      " |  biff2_8_load(self, filename=None, file_contents=None, logfile=<ipykernel.iostream.OutStream object at 0x0000022B14DC9358>, verbosity=0, use_mmap=1, encoding_override=None, formatting_info=False, on_demand=False, ragged_rows=False)\n",
      " |  \n",
      " |  derive_encoding(self)\n",
      " |  \n",
      " |  fake_globals_get_sheet(self)\n",
      " |  \n",
      " |  get2bytes(self)\n",
      " |  \n",
      " |  get_record_parts(self)\n",
      " |  \n",
      " |  get_record_parts_conditional(self, reqd_record)\n",
      " |  \n",
      " |  get_sheet(self, sh_number, update_pos=True)\n",
      " |  \n",
      " |  get_sheets(self)\n",
      " |  \n",
      " |  getbof(self, rqd_stream)\n",
      " |  \n",
      " |  handle_boundsheet(self, data)\n",
      " |  \n",
      " |  handle_builtinfmtcount(self, data)\n",
      " |  \n",
      " |  handle_codepage(self, data)\n",
      " |  \n",
      " |  handle_country(self, data)\n",
      " |  \n",
      " |  handle_datemode(self, data)\n",
      " |  \n",
      " |  handle_externname(self, data)\n",
      " |  \n",
      " |  handle_externsheet(self, data)\n",
      " |  \n",
      " |  handle_filepass(self, data)\n",
      " |  \n",
      " |  handle_name(self, data)\n",
      " |  \n",
      " |  handle_obj(self, data)\n",
      " |  \n",
      " |  handle_sheethdr(self, data)\n",
      " |  \n",
      " |  handle_sheetsoffset(self, data)\n",
      " |  \n",
      " |  handle_sst(self, data)\n",
      " |  \n",
      " |  handle_supbook(self, data)\n",
      " |  \n",
      " |  handle_writeaccess(self, data)\n",
      " |  \n",
      " |  initialise_format_info(self)\n",
      " |  \n",
      " |  names_epilogue(self)\n",
      " |  \n",
      " |  parse_globals(self)\n",
      " |  \n",
      " |  read(self, pos, length)\n",
      " |  \n",
      " |  release_resources(self)\n",
      " |      This method has a dual purpose. You can call it to release\n",
      " |      memory-consuming objects and (possibly) a memory-mapped file\n",
      " |      (:class:`mmap.mmap` object) when you have finished loading sheets in\n",
      " |      ``on_demand`` mode, but still require the :class:`Book` object to\n",
      " |      examine the loaded sheets. It is also called automatically (a) when\n",
      " |      :func:`~xlrd.open_workbook`\n",
      " |      raises an exception and (b) if you are using a ``with`` statement, when\n",
      " |      the ``with`` block is exited. Calling this method multiple times on the\n",
      " |      same object has no ill effect.\n",
      " |  \n",
      " |  sheet_by_index(self, sheetx)\n",
      " |      :param sheetx: Sheet index in ``range(nsheets)``\n",
      " |      :returns: A :class:`~xlrd.sheet.Sheet`.\n",
      " |  \n",
      " |  sheet_by_name(self, sheet_name)\n",
      " |      :param sheet_name: Name of the sheet required.\n",
      " |      :returns: A :class:`~xlrd.sheet.Sheet`.\n",
      " |  \n",
      " |  sheet_loaded(self, sheet_name_or_index)\n",
      " |      :param sheet_name_or_index: Name or index of sheet enquired upon\n",
      " |      :returns: ``True`` if sheet is loaded, ``False`` otherwise.\n",
      " |      \n",
      " |      .. versionadded:: 0.7.1\n",
      " |  \n",
      " |  sheet_names(self)\n",
      " |      :returns:\n",
      " |        A list of the names of all the worksheets in the workbook file.\n",
      " |        This information is available even when no sheets have yet been\n",
      " |        loaded.\n",
      " |  \n",
      " |  sheets(self)\n",
      " |      :returns: A list of all sheets in the book.\n",
      " |      \n",
      " |      All sheets not already loaded will be loaded.\n",
      " |  \n",
      " |  unload_sheet(self, sheet_name_or_index)\n",
      " |      :param sheet_name_or_index: Name or index of sheet to be unloaded.\n",
      " |      \n",
      " |      .. versionadded:: 0.7.1\n",
      " |  \n",
      " |  ----------------------------------------------------------------------\n",
      " |  Data and other attributes defined here:\n",
      " |  \n",
      " |  biff_version = 0\n",
      " |  \n",
      " |  codepage = None\n",
      " |  \n",
      " |  colour_map = {}\n",
      " |  \n",
      " |  countries = (0, 0)\n",
      " |  \n",
      " |  datemode = 0\n",
      " |  \n",
      " |  encoding = None\n",
      " |  \n",
      " |  font_list = []\n",
      " |  \n",
      " |  format_list = []\n",
      " |  \n",
      " |  format_map = {}\n",
      " |  \n",
      " |  load_time_stage_1 = -1.0\n",
      " |  \n",
      " |  load_time_stage_2 = -1.0\n",
      " |  \n",
      " |  name_and_scope_map = {}\n",
      " |  \n",
      " |  name_map = {}\n",
      " |  \n",
      " |  name_obj_list = []\n",
      " |  \n",
      " |  nsheets = 0\n",
      " |  \n",
      " |  palette_record = []\n",
      " |  \n",
      " |  style_name_map = {}\n",
      " |  \n",
      " |  user_name = ''\n",
      " |  \n",
      " |  xf_list = []\n",
      " |  \n",
      " |  ----------------------------------------------------------------------\n",
      " |  Methods inherited from xlrd.biffh.BaseObject:\n",
      " |  \n",
      " |  dump(self, f=None, header=None, footer=None, indent=0)\n",
      " |      :param f: open file object, to which the dump is written\n",
      " |      :param header: text to write before the dump\n",
      " |      :param footer: text to write after the dump\n",
      " |      :param indent: number of leading spaces (for recursive calls)\n",
      " |  \n",
      " |  ----------------------------------------------------------------------\n",
      " |  Data descriptors inherited from xlrd.biffh.BaseObject:\n",
      " |  \n",
      " |  __dict__\n",
      " |      dictionary for instance variables (if defined)\n",
      " |  \n",
      " |  __weakref__\n",
      " |      list of weak references to the object (if defined)\n",
      "\n"
     ]
    }
   ],
   "source": [
    "help(type(book))"
   ]
  },
  {
   "cell_type": "code",
   "execution_count": 16,
   "metadata": {},
   "outputs": [],
   "source": [
    "book.release_resources()"
   ]
  },
  {
   "cell_type": "code",
   "execution_count": null,
   "metadata": {},
   "outputs": [],
   "source": []
  }
 ],
 "metadata": {
  "kernelspec": {
   "display_name": "Python 3",
   "language": "python",
   "name": "python3"
  },
  "language_info": {
   "codemirror_mode": {
    "name": "ipython",
    "version": 3
   },
   "file_extension": ".py",
   "mimetype": "text/x-python",
   "name": "python",
   "nbconvert_exporter": "python",
   "pygments_lexer": "ipython3",
   "version": "3.7.3"
  }
 },
 "nbformat": 4,
 "nbformat_minor": 2
}
