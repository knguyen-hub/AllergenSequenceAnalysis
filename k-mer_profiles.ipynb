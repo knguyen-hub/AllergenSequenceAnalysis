{
 "cells": [
  {
   "cell_type": "code",
   "execution_count": null,
   "metadata": {},
   "outputs": [],
   "source": [
    "from itertools import product\n",
    "\n",
    "total_nucleotides = len(DNA_sequence)\n",
    "k = 3\n",
    "kmers = product([\"A\",\"T\",\"G\",\"C\"],repeat = k)\n",
    "kmers = [''.join(k) for k in kmers]\n",
    "\n",
    "results = {}\n",
    "for kmer in kmers:\n",
    "    results[kmer] = DNA_sequence.count(kmer)\n",
    "\n",
    "print(f\"The k-mer profile of our sequence is: {str(results)}\")"
   ]
  },
  {
   "cell_type": "code",
   "execution_count": 118,
   "metadata": {},
   "outputs": [],
   "source": [
    "from itertools import product\n",
    "\n",
    "aas = ['A', 'C', 'D', 'E', 'F', 'G', 'H', 'I', 'K', 'L', 'M', 'N', 'P', 'R', 'S', 'T', 'U', 'V', 'W', 'Y']\n",
    "k = 3\n",
    "kmers = product(aas,repeat = k)\n",
    "kmers = [''.join(k) for k in kmers]"
   ]
  },
  {
   "cell_type": "code",
   "execution_count": 3,
   "metadata": {},
   "outputs": [
    {
     "data": {
      "text/plain": [
       "8000"
      ]
     },
     "execution_count": 3,
     "metadata": {},
     "output_type": "execute_result"
    }
   ],
   "source": [
    "len(kmers)"
   ]
  },
  {
   "cell_type": "code",
   "execution_count": 4,
   "metadata": {},
   "outputs": [],
   "source": [
    "from pandas import DataFrame"
   ]
  },
  {
   "cell_type": "code",
   "execution_count": 5,
   "metadata": {},
   "outputs": [],
   "source": [
    "import matplotlib.pyplot as plt"
   ]
  },
  {
   "cell_type": "code",
   "execution_count": 7,
   "metadata": {},
   "outputs": [],
   "source": [
    "vals = [[10, 15],[7,5]]"
   ]
  },
  {
   "cell_type": "code",
   "execution_count": 29,
   "metadata": {},
   "outputs": [
    {
     "data": {
      "text/html": [
       "<div>\n",
       "<style scoped>\n",
       "    .dataframe tbody tr th:only-of-type {\n",
       "        vertical-align: middle;\n",
       "    }\n",
       "\n",
       "    .dataframe tbody tr th {\n",
       "        vertical-align: top;\n",
       "    }\n",
       "\n",
       "    .dataframe thead th {\n",
       "        text-align: right;\n",
       "    }\n",
       "</style>\n",
       "<table border=\"1\" class=\"dataframe\">\n",
       "  <thead>\n",
       "    <tr style=\"text-align: right;\">\n",
       "      <th></th>\n",
       "      <th>seq1</th>\n",
       "      <th>seq2</th>\n",
       "    </tr>\n",
       "  </thead>\n",
       "  <tbody>\n",
       "    <tr>\n",
       "      <th>AAA</th>\n",
       "      <td>10</td>\n",
       "      <td>15</td>\n",
       "    </tr>\n",
       "    <tr>\n",
       "      <th>AAC</th>\n",
       "      <td>7</td>\n",
       "      <td>5</td>\n",
       "    </tr>\n",
       "  </tbody>\n",
       "</table>\n",
       "</div>"
      ],
      "text/plain": [
       "     seq1  seq2\n",
       "AAA    10    15\n",
       "AAC     7     5"
      ]
     },
     "execution_count": 29,
     "metadata": {},
     "output_type": "execute_result"
    }
   ],
   "source": [
    "df = DataFrame(vals, index=['AAA', 'AAC'], columns=['seq1', 'seq2'])\n",
    "df\n",
    "\n",
    "df2 = DataFrame([[2, 3], [8, 9]], index=['AAC', 'AAA'], columns=['1', '2'])\n",
    "df"
   ]
  },
  {
   "cell_type": "code",
   "execution_count": 30,
   "metadata": {},
   "outputs": [
    {
     "data": {
      "text/plain": [
       "<function matplotlib.pyplot.show(*args, **kw)>"
      ]
     },
     "execution_count": 30,
     "metadata": {},
     "output_type": "execute_result"
    },
    {
     "data": {
      "image/png": "[encoded data removed]",
      "text/plain": [
       "<Figure size 432x288 with 1 Axes>"
      ]
     },
     "metadata": {
      "needs_background": "light"
     },
     "output_type": "display_data"
    }
   ],
   "source": [
    "plt.plot(df, 'go')\n",
    "plt.plot(df2, 'bo')\n",
    "plt.show"
   ]
  },
  {
   "cell_type": "code",
   "execution_count": null,
   "metadata": {},
   "outputs": [],
   "source": []
  },
  {
   "cell_type": "code",
   "execution_count": 34,
   "metadata": {},
   "outputs": [],
   "source": [
    "def kmer_profile(seq, kmers):\n",
    "    results = {}\n",
    "    for kmer in kmers:\n",
    "        if seq.count(kmer) != 0:\n",
    "            results[kmer] = seq.count(kmer)\n",
    "    return results"
   ]
  },
  {
   "cell_type": "code",
   "execution_count": null,
   "metadata": {},
   "outputs": [],
   "source": []
  },
  {
   "cell_type": "code",
   "execution_count": 45,
   "metadata": {},
   "outputs": [],
   "source": [
    "def kmer_counts(seqs, k=3):\n",
    "    results = {}\n",
    "    for seq_id, seq in seqs.items():\n",
    "        for i in range(len(seq) - (k - 1)):\n",
    "            short = seq[i: i+k]\n",
    "            results[short] = results.get(short, 0) + 1\n",
    "    return results\n",
    "            "
   ]
  },
  {
   "cell_type": "code",
   "execution_count": 38,
   "metadata": {},
   "outputs": [],
   "source": [
    "def parse_fasta_file(input_file, prot_family=''):\n",
    "    \"\"\"Return a dict of {id:gene_seq} pairs based on the sequences in the input FASTA file\n",
    "    input_file -- a file handle for an input fasta file\n",
    "    prot_family -- string representing the protein family that we want to focus on.\n",
    "        When this parameter is given, only sequences of this family are added to the dictionary\n",
    "        When it is not given, the whole file is added to the dictionary\n",
    "    \"\"\"\n",
    "    parsed_seqs = {}\n",
    "    curr_seq_id = None\n",
    "    curr_seq = []\n",
    "    \n",
    "    prev_prot_in_family = False\n",
    "    \n",
    "    # parse every line in the file\n",
    "    for line in input_file:\n",
    "        \n",
    "        # get rid of \\n and \\t characters\n",
    "        line = line.strip()\n",
    "        \n",
    "        # identifier line\n",
    "        if line.startswith(\">\"):\n",
    "                \n",
    "            if (curr_seq_id is not None) and prev_prot_in_family:\n",
    "                # add the sequence to the dictionary\n",
    "                parsed_seqs[curr_seq_id] = ''.join(curr_seq)\n",
    "            \n",
    "            # check if the id contains the protein family we want\n",
    "            if prot_family in line:\n",
    "                prev_prot_in_family = True\n",
    "            else:\n",
    "                prev_prot_in_family = False\n",
    "                \n",
    "            curr_seq_id = line[1:]\n",
    "            curr_seq = []\n",
    "            continue\n",
    "\n",
    "        curr_seq.append(line)\n",
    "\n",
    "    #Add the final sequence to the dict\n",
    "    parsed_seqs[curr_seq_id] = ''.join(curr_seq)\n",
    "    return parsed_seqs"
   ]
  },
  {
   "cell_type": "code",
   "execution_count": 104,
   "metadata": {},
   "outputs": [],
   "source": [
    "file = open('COMPARE2025-FastA-Seq-01-27-2025.txt', 'r')\n",
    "allergen_dict = parse_fasta_file(file, 'lipocalin')\n",
    "file.close()"
   ]
  },
  {
   "cell_type": "code",
   "execution_count": null,
   "metadata": {},
   "outputs": [],
   "source": []
  },
  {
   "cell_type": "code",
   "execution_count": null,
   "metadata": {},
   "outputs": [],
   "source": []
  },
  {
   "cell_type": "code",
   "execution_count": 90,
   "metadata": {},
   "outputs": [],
   "source": [
    "def find_repeated_seqs(seq_dict, num_appearances=1, k=3):\n",
    "    unfiltered = kmer_counts(allergen_dict, k)\n",
    "    filtered = {}\n",
    "    for seq, count in unfiltered.items():\n",
    "        if count > num_appearances:\n",
    "            filtered[seq] = count\n",
    "    return filtered"
   ]
  },
  {
   "cell_type": "code",
   "execution_count": 111,
   "metadata": {},
   "outputs": [],
   "source": [
    "rep_seq_dict = find_repeated_seqs(allergen_dict, 5, 8)"
   ]
  },
  {
   "cell_type": "code",
   "execution_count": 115,
   "metadata": {},
   "outputs": [
    {
     "data": {
      "text/html": [
       "<div>\n",
       "<style scoped>\n",
       "    .dataframe tbody tr th:only-of-type {\n",
       "        vertical-align: middle;\n",
       "    }\n",
       "\n",
       "    .dataframe tbody tr th {\n",
       "        vertical-align: top;\n",
       "    }\n",
       "\n",
       "    .dataframe thead th {\n",
       "        text-align: right;\n",
       "    }\n",
       "</style>\n",
       "<table border=\"1\" class=\"dataframe\">\n",
       "  <thead>\n",
       "    <tr style=\"text-align: right;\">\n",
       "      <th></th>\n",
       "      <th>LLLLCLGL</th>\n",
       "      <th>LLLCLGLT</th>\n",
       "      <th>LLCLGLTL</th>\n",
       "      <th>LCLGLTLV</th>\n",
       "      <th>CLGLTLVC</th>\n",
       "      <th>EKIEENGS</th>\n",
       "      <th>KIEENGSM</th>\n",
       "      <th>IEENGSMR</th>\n",
       "      <th>EENGSMRV</th>\n",
       "      <th>ENGSMRVF</th>\n",
       "    </tr>\n",
       "  </thead>\n",
       "  <tbody>\n",
       "    <tr>\n",
       "      <th>count</th>\n",
       "      <td>9</td>\n",
       "      <td>6</td>\n",
       "      <td>6</td>\n",
       "      <td>6</td>\n",
       "      <td>6</td>\n",
       "      <td>7</td>\n",
       "      <td>7</td>\n",
       "      <td>7</td>\n",
       "      <td>7</td>\n",
       "      <td>7</td>\n",
       "    </tr>\n",
       "  </tbody>\n",
       "</table>\n",
       "</div>"
      ],
      "text/plain": [
       "       LLLLCLGL  LLLCLGLT  LLCLGLTL  LCLGLTLV  CLGLTLVC  EKIEENGS  KIEENGSM  \\\n",
       "count         9         6         6         6         6         7         7   \n",
       "\n",
       "       IEENGSMR  EENGSMRV  ENGSMRVF  \n",
       "count         7         7         7  "
      ]
     },
     "execution_count": 115,
     "metadata": {},
     "output_type": "execute_result"
    }
   ],
   "source": [
    "from pandas import Series\n",
    "s = DataFrame(rep_seq_dict, index=['count'])\n",
    "s"
   ]
  },
  {
   "cell_type": "code",
   "execution_count": 117,
   "metadata": {},
   "outputs": [
    {
     "data": {
      "image/png": "[encoded data removed]",
      "text/plain": [
       "<Figure size 432x288 with 1 Axes>"
      ]
     },
     "metadata": {
      "needs_background": "light"
     },
     "output_type": "display_data"
    }
   ],
   "source": [
    "\n",
    "x, y = zip((*rep_seq_dict.items()))\n",
    "plt.plot(x, y, 'o')\n",
    "plt.xticks(rotation=90)\n",
    "plt.title('Sequence motifs and their frequencies in Lipocalin allergens')\n",
    "plt.ylabel('Count')\n",
    "plt.xlabel('Sequence motif')\n",
    "\n",
    "plt.show()"
   ]
  },
  {
   "cell_type": "code",
   "execution_count": 101,
   "metadata": {},
   "outputs": [],
   "source": [
    "file = open('human_lipocalin_protein_sequences.fasta', 'r')\n",
    "human_dict = parse_fasta_file(file)\n",
    "file.close()"
   ]
  },
  {
   "cell_type": "code",
   "execution_count": 103,
   "metadata": {},
   "outputs": [
    {
     "name": "stdout",
     "output_type": "stream",
     "text": [
      "Similar sequences found with their count: {'LLASD': 2, 'NIIDL': 1, 'IIDLT': 1, 'TDYDN': 1}\n"
     ]
    }
   ],
   "source": [
    "sim = {}\n",
    "for seq, count in rep_seq_dict.items():\n",
    "    human_count = 0\n",
    "    for seq_id, human_seq in human_dict.items():\n",
    "        human_count += human_seq.count(seq)\n",
    "    if human_count > 0:\n",
    "        sim[seq] = human_count\n",
    "if len(sim) == 0:\n",
    "    print(\"No similar sequences found within humans\")\n",
    "else:\n",
    "    print(f\"Similar sequences found with their count: {sim}\")"
   ]
  },
  {
   "cell_type": "code",
   "execution_count": null,
   "metadata": {},
   "outputs": [],
   "source": []
  }
 ],
 "metadata": {
  "kernelspec": {
   "display_name": "Python 3",
   "language": "python",
   "name": "python3"
  },
  "language_info": {
   "codemirror_mode": {
    "name": "ipython",
    "version": 3
   },
   "file_extension": ".py",
   "mimetype": "text/x-python",
   "name": "python",
   "nbconvert_exporter": "python",
   "pygments_lexer": "ipython3",
   "version": "3.7.3"
  }
 },
 "nbformat": 4,
 "nbformat_minor": 2
}
